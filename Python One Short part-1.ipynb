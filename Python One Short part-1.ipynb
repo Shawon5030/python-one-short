{
 "cells": [
  {
   "cell_type": "markdown",
   "id": "05645672-39db-4498-9e8e-e1e323dccd49",
   "metadata": {},
   "source": [
    "1.0  Variable\n"
   ]
  },
  {
   "cell_type": "code",
   "execution_count": 3,
   "id": "b420f845-4e71-4dc6-99f5-c3789462632d",
   "metadata": {},
   "outputs": [
    {
     "name": "stdout",
     "output_type": "stream",
     "text": [
      "10\n"
     ]
    }
   ],
   "source": [
    "x = 10\n",
    "print(x)"
   ]
  },
  {
   "cell_type": "code",
   "execution_count": 6,
   "id": "772f20af-7d83-4e2c-8a75-456a64c084cf",
   "metadata": {},
   "outputs": [
    {
     "name": "stdout",
     "output_type": "stream",
     "text": [
      "this is also a string\n",
      "this is a string\n"
     ]
    }
   ],
   "source": [
    "x  = 'this is a string'\n",
    "y = \"this is also a string\"\n",
    "print(y)\n",
    "print(x) "
   ]
  },
  {
   "cell_type": "code",
   "execution_count": 8,
   "id": "dce11588-7ce8-4b42-993f-44461b80b945",
   "metadata": {},
   "outputs": [
    {
     "name": "stdout",
     "output_type": "stream",
     "text": [
      "x this is a string\n"
     ]
    }
   ],
   "source": [
    "print('x' , x)"
   ]
  },
  {
   "cell_type": "code",
   "execution_count": 9,
   "id": "056346d6-c2c6-4aba-b3c2-a266b5ef5f8b",
   "metadata": {},
   "outputs": [
    {
     "data": {
      "text/plain": [
       "2707249915712"
      ]
     },
     "execution_count": 9,
     "metadata": {},
     "output_type": "execute_result"
    }
   ],
   "source": [
    "id(x)"
   ]
  },
  {
   "cell_type": "code",
   "execution_count": 10,
   "id": "b57414a7-b879-44b7-ba61-266d7e3b592a",
   "metadata": {},
   "outputs": [
    {
     "data": {
      "text/plain": [
       "2707249919072"
      ]
     },
     "execution_count": 10,
     "metadata": {},
     "output_type": "execute_result"
    }
   ],
   "source": [
    "id(y)"
   ]
  },
  {
   "cell_type": "code",
   "execution_count": 12,
   "id": "3c9dbdb0-1b26-492c-9b3e-be8d6dc27bd8",
   "metadata": {},
   "outputs": [
    {
     "ename": "SyntaxError",
     "evalue": "unmatched ')' (3494821260.py, line 1)",
     "output_type": "error",
     "traceback": [
      "\u001b[1;36m  Cell \u001b[1;32mIn[12], line 1\u001b[1;36m\u001b[0m\n\u001b[1;33m    )variable = 10\u001b[0m\n\u001b[1;37m    ^\u001b[0m\n\u001b[1;31mSyntaxError\u001b[0m\u001b[1;31m:\u001b[0m unmatched ')'\n"
     ]
    }
   ],
   "source": [
    ")variable = 10\n",
    "print(9variable)"
   ]
  },
  {
   "cell_type": "code",
   "execution_count": 13,
   "id": "e56cb9f6-40b6-4f8f-9610-08882a27f6e6",
   "metadata": {},
   "outputs": [
    {
     "name": "stdout",
     "output_type": "stream",
     "text": [
      "20\n"
     ]
    }
   ],
   "source": [
    "vari_1 = 20\n",
    "print(vari_1)"
   ]
  },
  {
   "cell_type": "code",
   "execution_count": 16,
   "id": "d0c66cdd-c383-492d-9c9c-b25a2c52c53e",
   "metadata": {},
   "outputs": [
    {
     "name": "stdout",
     "output_type": "stream",
     "text": [
      "20\n"
     ]
    }
   ],
   "source": [
    "vari1 = 20\n",
    "print(vari1)"
   ]
  },
  {
   "cell_type": "code",
   "execution_count": 17,
   "id": "bf66f779-79e1-4680-b28d-dea12b32663c",
   "metadata": {},
   "outputs": [
    {
     "name": "stdout",
     "output_type": "stream",
     "text": [
      "20\n"
     ]
    }
   ],
   "source": [
    "print(vari1)"
   ]
  },
  {
   "cell_type": "code",
   "execution_count": 18,
   "id": "93005e43-d5e6-498b-a92b-490236d02aa5",
   "metadata": {},
   "outputs": [
    {
     "data": {
      "text/plain": [
       "20"
      ]
     },
     "execution_count": 18,
     "metadata": {},
     "output_type": "execute_result"
    }
   ],
   "source": [
    "vari1"
   ]
  },
  {
   "cell_type": "code",
   "execution_count": 23,
   "id": "b3e2f496-9291-4f4b-a8b1-f68aeae4743b",
   "metadata": {},
   "outputs": [
    {
     "name": "stdout",
     "output_type": "stream",
     "text": [
      "this is a print function    my name is shawon    i love python and js&"
     ]
    }
   ],
   "source": [
    "print('this is a print function','my name is shawon','i love python and js',sep='    ' , end='&')"
   ]
  },
  {
   "cell_type": "markdown",
   "id": "33b6ba37-d9ac-4936-a5f8-48191e9c70e5",
   "metadata": {},
   "source": [
    "1.1 Input function"
   ]
  },
  {
   "cell_type": "code",
   "execution_count": 28,
   "id": "24e02dff-9d4f-4509-9078-046b2fb574de",
   "metadata": {},
   "outputs": [
    {
     "data": {
      "text/plain": [
       "30"
      ]
     },
     "execution_count": 28,
     "metadata": {},
     "output_type": "execute_result"
    }
   ],
   "source": [
    "a = 10\n",
    "b = 20\n",
    "a+b"
   ]
  },
  {
   "cell_type": "code",
   "execution_count": 29,
   "id": "79b7c1fc-ea9c-4666-a601-776057c69564",
   "metadata": {},
   "outputs": [
    {
     "data": {
      "text/plain": [
       "int"
      ]
     },
     "execution_count": 29,
     "metadata": {},
     "output_type": "execute_result"
    }
   ],
   "source": [
    "type(a)"
   ]
  },
  {
   "cell_type": "code",
   "execution_count": 25,
   "id": "caa110a1-8d61-4dd7-8b61-7d896966f150",
   "metadata": {},
   "outputs": [
    {
     "data": {
      "text/plain": [
       "'1020'"
      ]
     },
     "execution_count": 25,
     "metadata": {},
     "output_type": "execute_result"
    }
   ],
   "source": [
    "a = '10'\n",
    "b = '20'\n",
    "a+b"
   ]
  },
  {
   "cell_type": "code",
   "execution_count": 26,
   "id": "67edfe4a-bcfd-4541-92b9-df5c573a25fd",
   "metadata": {},
   "outputs": [
    {
     "data": {
      "text/plain": [
       "str"
      ]
     },
     "execution_count": 26,
     "metadata": {},
     "output_type": "execute_result"
    }
   ],
   "source": [
    "type(a)"
   ]
  },
  {
   "cell_type": "code",
   "execution_count": 30,
   "id": "69c05f1d-7751-42d9-8088-380e85499060",
   "metadata": {},
   "outputs": [
    {
     "name": "stdin",
     "output_type": "stream",
     "text": [
      " 10\n"
     ]
    }
   ],
   "source": [
    "num1 = input()"
   ]
  },
  {
   "cell_type": "code",
   "execution_count": 31,
   "id": "6622c050-830f-40cd-a726-2a770e1ad278",
   "metadata": {},
   "outputs": [
    {
     "data": {
      "text/plain": [
       "'10'"
      ]
     },
     "execution_count": 31,
     "metadata": {},
     "output_type": "execute_result"
    }
   ],
   "source": [
    "num1"
   ]
  },
  {
   "cell_type": "code",
   "execution_count": 34,
   "id": "20756236-fbd7-42fe-a10d-24b4c4f949c6",
   "metadata": {},
   "outputs": [
    {
     "name": "stdin",
     "output_type": "stream",
     "text": [
      " 20\n"
     ]
    }
   ],
   "source": [
    "num2 = input()"
   ]
  },
  {
   "cell_type": "code",
   "execution_count": 35,
   "id": "4e3a0c2a-1ac3-4d62-8aa1-6f1fa506eb7e",
   "metadata": {},
   "outputs": [
    {
     "data": {
      "text/plain": [
       "'1020'"
      ]
     },
     "execution_count": 35,
     "metadata": {},
     "output_type": "execute_result"
    }
   ],
   "source": [
    "num1+num2"
   ]
  },
  {
   "cell_type": "code",
   "execution_count": 37,
   "id": "473c2865-8bb9-4d59-9b57-eb9995a43ea8",
   "metadata": {},
   "outputs": [
    {
     "name": "stdin",
     "output_type": "stream",
     "text": [
      "Enter a num: 20\n"
     ]
    }
   ],
   "source": [
    "num2 = input('Enter a num:')"
   ]
  },
  {
   "cell_type": "code",
   "execution_count": 38,
   "id": "53e6178a-9b7d-4380-8748-46dc1087c56c",
   "metadata": {},
   "outputs": [
    {
     "name": "stdin",
     "output_type": "stream",
     "text": [
      "enter a number: 20\n"
     ]
    }
   ],
   "source": [
    "var = int(input('enter a number:'))"
   ]
  },
  {
   "cell_type": "code",
   "execution_count": 39,
   "id": "a9765e97-25b1-4ce5-ab36-4c35ffdf0628",
   "metadata": {},
   "outputs": [
    {
     "name": "stdin",
     "output_type": "stream",
     "text": [
      "enter a number: 30\n"
     ]
    }
   ],
   "source": [
    "var1 = int(input('enter a number:'))"
   ]
  },
  {
   "cell_type": "code",
   "execution_count": 40,
   "id": "d22051f5-c36a-4832-b93b-e3bb60d79a98",
   "metadata": {},
   "outputs": [
    {
     "data": {
      "text/plain": [
       "50"
      ]
     },
     "execution_count": 40,
     "metadata": {},
     "output_type": "execute_result"
    }
   ],
   "source": [
    "var+var1"
   ]
  },
  {
   "cell_type": "markdown",
   "id": "4506c2f7-649d-42ac-859a-e831b98d9c80",
   "metadata": {},
   "source": [
    "1.2 data types"
   ]
  },
  {
   "cell_type": "code",
   "execution_count": 42,
   "id": "fd6b77c5-4d5a-4cbe-aa64-bc5e4a70ba27",
   "metadata": {},
   "outputs": [
    {
     "data": {
      "text/plain": [
       "int"
      ]
     },
     "execution_count": 42,
     "metadata": {},
     "output_type": "execute_result"
    }
   ],
   "source": [
    "type(10)"
   ]
  },
  {
   "cell_type": "code",
   "execution_count": 43,
   "id": "b4a169a6-d556-4af3-b5a5-66e18abc076a",
   "metadata": {},
   "outputs": [
    {
     "data": {
      "text/plain": [
       "float"
      ]
     },
     "execution_count": 43,
     "metadata": {},
     "output_type": "execute_result"
    }
   ],
   "source": [
    "type(10.1)"
   ]
  },
  {
   "cell_type": "code",
   "execution_count": 44,
   "id": "bd2e99ca-1054-4016-981f-a4657464e38c",
   "metadata": {},
   "outputs": [
    {
     "data": {
      "text/plain": [
       "str"
      ]
     },
     "execution_count": 44,
     "metadata": {},
     "output_type": "execute_result"
    }
   ],
   "source": [
    "type('this')"
   ]
  },
  {
   "cell_type": "code",
   "execution_count": 46,
   "id": "949e507e-515a-4b01-88ca-6c7fa52a1277",
   "metadata": {},
   "outputs": [
    {
     "data": {
      "text/plain": [
       "complex"
      ]
     },
     "execution_count": 46,
     "metadata": {},
     "output_type": "execute_result"
    }
   ],
   "source": [
    "type(20j)"
   ]
  },
  {
   "cell_type": "code",
   "execution_count": 47,
   "id": "6df8bd8b-f083-4bf0-aba6-e65152e2e285",
   "metadata": {},
   "outputs": [
    {
     "data": {
      "text/plain": [
       "list"
      ]
     },
     "execution_count": 47,
     "metadata": {},
     "output_type": "execute_result"
    }
   ],
   "source": [
    "type([1,2,3,4])"
   ]
  },
  {
   "cell_type": "code",
   "execution_count": 48,
   "id": "3db8d521-5005-4dc0-9adb-ce07268f9c89",
   "metadata": {},
   "outputs": [
    {
     "data": {
      "text/plain": [
       "tuple"
      ]
     },
     "execution_count": 48,
     "metadata": {},
     "output_type": "execute_result"
    }
   ],
   "source": [
    "type((2,3,4))"
   ]
  },
  {
   "cell_type": "code",
   "execution_count": 51,
   "id": "9aead820-6fb9-4f71-9782-e667f7463f38",
   "metadata": {},
   "outputs": [
    {
     "data": {
      "text/plain": [
       "dict"
      ]
     },
     "execution_count": 51,
     "metadata": {},
     "output_type": "execute_result"
    }
   ],
   "source": [
    "type(\n",
    "    {'name':'shawon',\n",
    "    'age':19})"
   ]
  },
  {
   "cell_type": "markdown",
   "id": "2b0c60cf-cd85-445c-b733-9d6f802d70a9",
   "metadata": {},
   "source": [
    "1.2 data type convertion"
   ]
  },
  {
   "cell_type": "code",
   "execution_count": 53,
   "id": "f76c9a4d-eb4d-44fd-a4d2-d416ae85035a",
   "metadata": {},
   "outputs": [
    {
     "data": {
      "text/plain": [
       "int"
      ]
     },
     "execution_count": 53,
     "metadata": {},
     "output_type": "execute_result"
    }
   ],
   "source": [
    "a = 10\n",
    "type(a)"
   ]
  },
  {
   "cell_type": "code",
   "execution_count": 56,
   "id": "28180fd6-1c36-4bc2-8d1c-42dccd9ac40a",
   "metadata": {},
   "outputs": [],
   "source": [
    "a = float(a)"
   ]
  },
  {
   "cell_type": "code",
   "execution_count": 57,
   "id": "e9ddc6b3-5905-46b4-bce4-1eebe166b45e",
   "metadata": {},
   "outputs": [
    {
     "data": {
      "text/plain": [
       "float"
      ]
     },
     "execution_count": 57,
     "metadata": {},
     "output_type": "execute_result"
    }
   ],
   "source": [
    "type(a)"
   ]
  },
  {
   "cell_type": "code",
   "execution_count": 58,
   "id": "af4cfc04-6e2d-4519-b4ae-a9ca021d106d",
   "metadata": {},
   "outputs": [
    {
     "data": {
      "text/plain": [
       "float"
      ]
     },
     "execution_count": 58,
     "metadata": {},
     "output_type": "execute_result"
    }
   ],
   "source": [
    "b = 20.0\n",
    "type(b)"
   ]
  },
  {
   "cell_type": "code",
   "execution_count": 60,
   "id": "b9ba7a43-9c10-4ec8-b1fe-6f31b964209e",
   "metadata": {},
   "outputs": [
    {
     "data": {
      "text/plain": [
       "int"
      ]
     },
     "execution_count": 60,
     "metadata": {},
     "output_type": "execute_result"
    }
   ],
   "source": [
    "b = int(b)\n",
    "type(b)"
   ]
  },
  {
   "cell_type": "code",
   "execution_count": 62,
   "id": "8dece546-dc4c-4b4b-aa17-ab937e046687",
   "metadata": {},
   "outputs": [
    {
     "data": {
      "text/plain": [
       "True"
      ]
     },
     "execution_count": 62,
     "metadata": {},
     "output_type": "execute_result"
    }
   ],
   "source": [
    "c = True\n",
    "c\n"
   ]
  },
  {
   "cell_type": "code",
   "execution_count": 63,
   "id": "2304d363-ab42-4e59-ae7a-b1c49969db26",
   "metadata": {},
   "outputs": [],
   "source": [
    "c = int(c)"
   ]
  },
  {
   "cell_type": "code",
   "execution_count": 64,
   "id": "efb9790b-a527-4feb-a05b-84627ec7615f",
   "metadata": {},
   "outputs": [
    {
     "data": {
      "text/plain": [
       "1"
      ]
     },
     "execution_count": 64,
     "metadata": {},
     "output_type": "execute_result"
    }
   ],
   "source": [
    "c"
   ]
  },
  {
   "cell_type": "code",
   "execution_count": 65,
   "id": "2deec11d-92f4-49d5-9659-6170d8574ac2",
   "metadata": {},
   "outputs": [
    {
     "data": {
      "text/plain": [
       "0"
      ]
     },
     "execution_count": 65,
     "metadata": {},
     "output_type": "execute_result"
    }
   ],
   "source": [
    "d = False\n",
    "d = int(d)\n",
    "d"
   ]
  },
  {
   "cell_type": "code",
   "execution_count": 66,
   "id": "da807e2d-d9da-4a62-b6ba-72261f497898",
   "metadata": {},
   "outputs": [
    {
     "data": {
      "text/plain": [
       "True"
      ]
     },
     "execution_count": 66,
     "metadata": {},
     "output_type": "execute_result"
    }
   ],
   "source": [
    "e = 100\n",
    "e = bool(e)\n",
    "e"
   ]
  },
  {
   "cell_type": "code",
   "execution_count": 69,
   "id": "d35e7db5-8048-48c9-bfcb-e310c9e184f4",
   "metadata": {},
   "outputs": [],
   "source": [
    "typeConversionBool = -100\n",
    "typeConversionBool = bool(-100)\n"
   ]
  },
  {
   "cell_type": "code",
   "execution_count": 70,
   "id": "b557461f-41dc-4ebb-92a4-69ff1261a838",
   "metadata": {},
   "outputs": [
    {
     "data": {
      "text/plain": [
       "True"
      ]
     },
     "execution_count": 70,
     "metadata": {},
     "output_type": "execute_result"
    }
   ],
   "source": [
    "typeConversionBool"
   ]
  },
  {
   "cell_type": "markdown",
   "id": "8d60766d-9d28-4ce1-a98c-bb6b3350b128",
   "metadata": {},
   "source": [
    "1.3 Mathematics operations"
   ]
  },
  {
   "cell_type": "code",
   "execution_count": 75,
   "id": "d14555dc-f998-45dc-b3c9-eb5b083ebb27",
   "metadata": {},
   "outputs": [],
   "source": [
    "x = 20\n",
    "y = 3\n",
    "z = 2"
   ]
  },
  {
   "cell_type": "code",
   "execution_count": 76,
   "id": "28e26a1d-7d3d-4168-aabc-fae80636c2b6",
   "metadata": {},
   "outputs": [
    {
     "data": {
      "text/plain": [
       "23"
      ]
     },
     "execution_count": 76,
     "metadata": {},
     "output_type": "execute_result"
    }
   ],
   "source": [
    "x+y"
   ]
  },
  {
   "cell_type": "code",
   "execution_count": 77,
   "id": "29a940ed-e1c9-4eb2-bbab-4009ae84d269",
   "metadata": {},
   "outputs": [
    {
     "data": {
      "text/plain": [
       "22"
      ]
     },
     "execution_count": 77,
     "metadata": {},
     "output_type": "execute_result"
    }
   ],
   "source": [
    "x+z"
   ]
  },
  {
   "cell_type": "code",
   "execution_count": 78,
   "id": "42b048a1-d96e-4b13-ba9f-fc963c205c4c",
   "metadata": {},
   "outputs": [
    {
     "data": {
      "text/plain": [
       "-1"
      ]
     },
     "execution_count": 78,
     "metadata": {},
     "output_type": "execute_result"
    }
   ],
   "source": [
    "z-y"
   ]
  },
  {
   "cell_type": "code",
   "execution_count": 79,
   "id": "21664c74-0678-410e-b863-3bde4aa28340",
   "metadata": {},
   "outputs": [
    {
     "data": {
      "text/plain": [
       "60"
      ]
     },
     "execution_count": 79,
     "metadata": {},
     "output_type": "execute_result"
    }
   ],
   "source": [
    "x*y"
   ]
  },
  {
   "cell_type": "code",
   "execution_count": 80,
   "id": "9f3f13ed-558d-4ba4-ae49-a6f53e3fbbf2",
   "metadata": {},
   "outputs": [
    {
     "data": {
      "text/plain": [
       "6.666666666666667"
      ]
     },
     "execution_count": 80,
     "metadata": {},
     "output_type": "execute_result"
    }
   ],
   "source": [
    "x/y"
   ]
  },
  {
   "cell_type": "code",
   "execution_count": 81,
   "id": "88add0be-1577-4757-8fec-7ed5e705062e",
   "metadata": {},
   "outputs": [
    {
     "data": {
      "text/plain": [
       "6"
      ]
     },
     "execution_count": 81,
     "metadata": {},
     "output_type": "execute_result"
    }
   ],
   "source": [
    "x//y"
   ]
  },
  {
   "cell_type": "code",
   "execution_count": 82,
   "id": "03a939dd-f182-41f6-ac20-57e2488cbd4e",
   "metadata": {},
   "outputs": [
    {
     "data": {
      "text/plain": [
       "2"
      ]
     },
     "execution_count": 82,
     "metadata": {},
     "output_type": "execute_result"
    }
   ],
   "source": [
    "x%y"
   ]
  },
  {
   "cell_type": "code",
   "execution_count": 87,
   "id": "3a044c63-3ae3-42e6-81cc-2bbfbe0d32ce",
   "metadata": {},
   "outputs": [
    {
     "data": {
      "text/plain": [
       "6"
      ]
     },
     "execution_count": 87,
     "metadata": {},
     "output_type": "execute_result"
    }
   ],
   "source": [
    "import math\n",
    "math.floor(x/y)"
   ]
  },
  {
   "cell_type": "code",
   "execution_count": 88,
   "id": "cc467527-89f9-4651-8194-d03f4990e408",
   "metadata": {},
   "outputs": [
    {
     "data": {
      "text/plain": [
       "7"
      ]
     },
     "execution_count": 88,
     "metadata": {},
     "output_type": "execute_result"
    }
   ],
   "source": [
    "math.ceil(x/y)"
   ]
  },
  {
   "cell_type": "code",
   "execution_count": 89,
   "id": "8d36725d-b2a5-46b2-9405-599ea37a835a",
   "metadata": {},
   "outputs": [
    {
     "data": {
      "text/plain": [
       "True"
      ]
     },
     "execution_count": 89,
     "metadata": {},
     "output_type": "execute_result"
    }
   ],
   "source": [
    "20>10 and 20>2"
   ]
  },
  {
   "cell_type": "code",
   "execution_count": 90,
   "id": "5fcd6d90-a34a-4fb7-8a3b-e242b73ff4e8",
   "metadata": {},
   "outputs": [
    {
     "data": {
      "text/plain": [
       "False"
      ]
     },
     "execution_count": 90,
     "metadata": {},
     "output_type": "execute_result"
    }
   ],
   "source": [
    "20>22 and 20>2"
   ]
  },
  {
   "cell_type": "code",
   "execution_count": 91,
   "id": "11cd8330-73f5-4531-9df3-e868ed3e1b40",
   "metadata": {},
   "outputs": [
    {
     "data": {
      "text/plain": [
       "True"
      ]
     },
     "execution_count": 91,
     "metadata": {},
     "output_type": "execute_result"
    }
   ],
   "source": [
    "20>22 or 20>2"
   ]
  },
  {
   "cell_type": "markdown",
   "id": "f1901803-78b4-49e9-a01c-428a9e3df3e5",
   "metadata": {},
   "source": [
    "1.4 If Else Statements in Python"
   ]
  },
  {
   "cell_type": "code",
   "execution_count": 93,
   "id": "b710b893-fe09-47d5-87fa-487c93183928",
   "metadata": {},
   "outputs": [
    {
     "name": "stdout",
     "output_type": "stream",
     "text": [
      "20\n"
     ]
    }
   ],
   "source": [
    "name = 20\n",
    "\n",
    "if name==20:\n",
    "    print(name)"
   ]
  },
  {
   "cell_type": "code",
   "execution_count": 99,
   "id": "b23b9302-7044-4fb7-b37b-cd1118b51c52",
   "metadata": {},
   "outputs": [
    {
     "name": "stdout",
     "output_type": "stream",
     "text": [
      "y is big\n"
     ]
    }
   ],
   "source": [
    "x = 2\n",
    "y = 10\n",
    "z = 5\n",
    "\n",
    "if x>y:\n",
    "    \n",
    "    print('X is big')\n",
    "else:\n",
    "    print('y is big')"
   ]
  },
  {
   "cell_type": "markdown",
   "id": "92f9fbba-868a-4662-9e48-62571f83b47b",
   "metadata": {},
   "source": [
    "x = 20\n",
    "y = 10\n",
    "z = 50\n",
    "\n",
    "if x==20:\n",
    "    print(x)\n",
    "elif x==20:\n",
    "    print(x,'hi')\n",
    "\n",
    "\n",
    "\n"
   ]
  },
  {
   "cell_type": "code",
   "execution_count": 113,
   "id": "d4fc916b-5338-4cb5-99fd-0b4d63ef608b",
   "metadata": {},
   "outputs": [
    {
     "name": "stdout",
     "output_type": "stream",
     "text": [
      "z is big\n"
     ]
    }
   ],
   "source": [
    "if x>y and x>z:\n",
    "    print(\"X is big\")\n",
    "elif y>x and y>z:\n",
    "    print(\"Y is big\")\n",
    "else:\n",
    "    print(\"z is big\")"
   ]
  },
  {
   "cell_type": "markdown",
   "id": "76987b89-c386-43bb-adb4-dd60831a2032",
   "metadata": {},
   "source": [
    "1.5  for Loop"
   ]
  },
  {
   "cell_type": "code",
   "execution_count": 117,
   "id": "5f21ebdf-25ab-4e01-b41d-67d93956bab4",
   "metadata": {},
   "outputs": [
    {
     "name": "stdout",
     "output_type": "stream",
     "text": [
      "hi\n",
      "hi\n",
      "hi\n",
      "hi\n",
      "hi\n",
      "hi\n",
      "hi\n",
      "hi\n",
      "hi\n",
      "hi\n"
     ]
    }
   ],
   "source": [
    "print('hi')\n",
    "print('hi')\n",
    "print('hi')\n",
    "print('hi')\n",
    "print('hi')\n",
    "print('hi')\n",
    "print('hi')\n",
    "print('hi')\n",
    "print('hi')\n",
    "print('hi')"
   ]
  },
  {
   "cell_type": "code",
   "execution_count": 129,
   "id": "d209aae3-da63-4b35-9245-55c683202686",
   "metadata": {},
   "outputs": [],
   "source": [
    "a = range(5,10,3)"
   ]
  },
  {
   "cell_type": "code",
   "execution_count": 130,
   "id": "7f05dca4-7853-4566-b8b6-9b18b0e7b74e",
   "metadata": {},
   "outputs": [
    {
     "name": "stdout",
     "output_type": "stream",
     "text": [
      "5\n",
      "8\n"
     ]
    }
   ],
   "source": [
    "for i in a:\n",
    "    print(i)"
   ]
  },
  {
   "cell_type": "code",
   "execution_count": 133,
   "id": "17ae1a8b-5916-4aad-98b2-bf9ab72ee9a5",
   "metadata": {},
   "outputs": [
    {
     "name": "stdout",
     "output_type": "stream",
     "text": [
      "0\n",
      "1\n",
      "2\n",
      "3\n",
      "4\n",
      "5\n",
      "6\n",
      "7\n",
      "8\n",
      "9\n",
      "10\n",
      "11\n",
      "12\n",
      "13\n",
      "14\n",
      "15\n",
      "16\n",
      "17\n",
      "18\n",
      "19\n",
      "20\n",
      "21\n",
      "22\n",
      "23\n",
      "24\n",
      "25\n",
      "26\n",
      "27\n",
      "28\n",
      "29\n",
      "30\n",
      "31\n",
      "32\n",
      "33\n",
      "34\n",
      "35\n",
      "36\n",
      "37\n",
      "38\n",
      "39\n",
      "40\n",
      "41\n",
      "42\n",
      "43\n",
      "44\n",
      "45\n",
      "46\n",
      "47\n",
      "48\n",
      "49\n",
      "50\n",
      "51\n",
      "52\n",
      "53\n",
      "54\n",
      "55\n",
      "56\n",
      "57\n",
      "58\n",
      "59\n",
      "60\n",
      "61\n",
      "62\n",
      "63\n",
      "64\n",
      "65\n",
      "66\n",
      "67\n",
      "68\n",
      "69\n",
      "70\n",
      "71\n",
      "72\n",
      "73\n",
      "74\n",
      "75\n",
      "76\n",
      "77\n",
      "78\n",
      "79\n",
      "80\n",
      "81\n",
      "82\n",
      "83\n",
      "84\n",
      "85\n",
      "86\n",
      "87\n",
      "88\n",
      "89\n",
      "90\n",
      "91\n",
      "92\n",
      "93\n",
      "94\n",
      "95\n",
      "96\n",
      "97\n",
      "98\n",
      "99\n",
      "100\n"
     ]
    }
   ],
   "source": [
    "for i in range(101):\n",
    "    print(i)"
   ]
  },
  {
   "cell_type": "code",
   "execution_count": 134,
   "id": "7903ad21-9e61-4259-ba5d-ab6dc1f8cb71",
   "metadata": {},
   "outputs": [
    {
     "name": "stdout",
     "output_type": "stream",
     "text": [
      "0\n",
      "1\n",
      "2\n",
      "3\n",
      "4\n",
      "5\n",
      "6\n",
      "7\n",
      "8\n",
      "9\n",
      "10\n",
      "11\n",
      "12\n",
      "13\n",
      "14\n",
      "15\n",
      "16\n",
      "17\n",
      "18\n",
      "19\n",
      "20\n",
      "21\n",
      "22\n",
      "23\n",
      "24\n",
      "25\n",
      "26\n",
      "27\n",
      "28\n",
      "29\n",
      "30\n",
      "31\n",
      "32\n",
      "33\n",
      "34\n",
      "35\n",
      "36\n",
      "37\n",
      "38\n",
      "39\n",
      "40\n",
      "41\n",
      "42\n",
      "43\n",
      "44\n",
      "45\n",
      "46\n",
      "47\n",
      "48\n",
      "49\n",
      "50\n",
      "51\n",
      "52\n",
      "53\n",
      "54\n",
      "55\n",
      "56\n",
      "57\n",
      "58\n",
      "59\n",
      "60\n",
      "61\n",
      "62\n",
      "63\n",
      "64\n",
      "65\n",
      "66\n",
      "67\n",
      "68\n",
      "69\n",
      "70\n",
      "71\n",
      "72\n",
      "73\n",
      "74\n",
      "75\n",
      "76\n",
      "77\n",
      "78\n",
      "79\n",
      "80\n",
      "81\n",
      "82\n",
      "83\n",
      "84\n",
      "85\n",
      "86\n",
      "87\n",
      "88\n",
      "89\n",
      "90\n",
      "91\n",
      "92\n",
      "93\n",
      "94\n",
      "95\n",
      "96\n",
      "97\n",
      "98\n",
      "99\n",
      "100\n",
      "5050\n"
     ]
    }
   ],
   "source": [
    "total = 0\n",
    "for i in range(101):\n",
    "    total = i+total\n",
    "    print(i)\n",
    "print(total)"
   ]
  },
  {
   "cell_type": "code",
   "execution_count": 137,
   "id": "66ed9385-18b8-4d4c-a7cc-f992fecd8b06",
   "metadata": {},
   "outputs": [
    {
     "name": "stdout",
     "output_type": "stream",
     "text": [
      "0\n",
      "1\n",
      "3\n",
      "6\n",
      "10\n",
      "15\n",
      "21\n",
      "28\n",
      "36\n",
      "45\n",
      "55\n",
      "66\n",
      "78\n",
      "91\n",
      "105\n",
      "120\n",
      "136\n",
      "153\n",
      "171\n",
      "190\n",
      "210\n",
      "231\n",
      "253\n",
      "276\n",
      "300\n",
      "325\n",
      "351\n",
      "378\n",
      "406\n",
      "435\n",
      "465\n",
      "496\n",
      "528\n",
      "561\n",
      "595\n",
      "630\n",
      "666\n",
      "703\n",
      "741\n",
      "780\n",
      "820\n",
      "861\n",
      "903\n",
      "946\n",
      "990\n",
      "1035\n",
      "1081\n",
      "1128\n",
      "1176\n",
      "1225\n",
      "1275\n",
      "1326\n",
      "1378\n",
      "1431\n",
      "1485\n",
      "1540\n",
      "1596\n",
      "1653\n",
      "1711\n",
      "1770\n",
      "1830\n",
      "1891\n",
      "1953\n",
      "2016\n",
      "2080\n",
      "2145\n",
      "2211\n",
      "2278\n",
      "2346\n",
      "2415\n",
      "2485\n",
      "2556\n",
      "2628\n",
      "2701\n",
      "2775\n",
      "2850\n",
      "2926\n",
      "3003\n",
      "3081\n",
      "3160\n",
      "3240\n",
      "3321\n",
      "3403\n",
      "3486\n",
      "3570\n",
      "3655\n",
      "3741\n",
      "3828\n",
      "3916\n",
      "4005\n",
      "4095\n",
      "4186\n",
      "4278\n",
      "4371\n",
      "4465\n",
      "4560\n",
      "4656\n",
      "4753\n",
      "4851\n",
      "4950\n",
      "5050\n"
     ]
    }
   ],
   "source": [
    "total = 0\n",
    "for i in range(101):\n",
    "    total =  i+ total\n",
    "    \n",
    "    print(total)"
   ]
  },
  {
   "cell_type": "code",
   "execution_count": 138,
   "id": "ee7e38a4-5993-410b-a7d4-bbc857491a27",
   "metadata": {},
   "outputs": [
    {
     "name": "stdout",
     "output_type": "stream",
     "text": [
      "h\n",
      "e\n",
      "l\n",
      "l\n",
      "o\n"
     ]
    }
   ],
   "source": [
    "text = \"hello\"\n",
    "\n",
    "for char in text:\n",
    "    print(char)"
   ]
  },
  {
   "cell_type": "code",
   "execution_count": 142,
   "id": "06d185d6-a01d-4f56-919d-24efe5bc1c7d",
   "metadata": {},
   "outputs": [
    {
     "name": "stdout",
     "output_type": "stream",
     "text": [
      "1\n",
      "3\n",
      "5\n",
      "7\n",
      "9\n"
     ]
    }
   ],
   "source": [
    "for i in range(1, 11):\n",
    "    if i % 2 == 1:\n",
    "        print(i)"
   ]
  },
  {
   "cell_type": "markdown",
   "id": "7793c88d-6c2b-4c1c-a835-7857abccabe8",
   "metadata": {},
   "source": [
    "1.6 while loop"
   ]
  },
  {
   "cell_type": "code",
   "execution_count": 145,
   "id": "cd9762e3-7078-4e1f-be69-7329291f59b9",
   "metadata": {},
   "outputs": [
    {
     "name": "stdout",
     "output_type": "stream",
     "text": [
      "0\n",
      "1\n",
      "1\n",
      "2\n",
      "2\n",
      "3\n",
      "3\n",
      "4\n",
      "4\n",
      "5\n"
     ]
    }
   ],
   "source": [
    "l = 0\n",
    "while l<5:\n",
    "    print(l)\n",
    "    l = l+1\n",
    "    print(l)"
   ]
  },
  {
   "cell_type": "code",
   "execution_count": 148,
   "id": "231a4844-f669-4847-8268-c15a9d8cab87",
   "metadata": {},
   "outputs": [
    {
     "name": "stdout",
     "output_type": "stream",
     "text": [
      "5050\n"
     ]
    }
   ],
   "source": [
    "l = 1\n",
    "sum = 0\n",
    "while l<=100:\n",
    "    sum = sum+l\n",
    "    l = l+1\n",
    "print(sum)\n",
    "    "
   ]
  },
  {
   "cell_type": "markdown",
   "id": "10908245-77ae-4fb6-8c3b-2cd1f1778584",
   "metadata": {},
   "source": [
    "1.7 function"
   ]
  },
  {
   "cell_type": "code",
   "execution_count": 153,
   "id": "eae10c88-f2ad-42b6-9796-c63045999fbd",
   "metadata": {},
   "outputs": [],
   "source": [
    "def name():\n",
    "    print('shawon')"
   ]
  },
  {
   "cell_type": "code",
   "execution_count": 154,
   "id": "09d0ec49-4cfa-4546-8d34-843154ed5e72",
   "metadata": {},
   "outputs": [
    {
     "name": "stdout",
     "output_type": "stream",
     "text": [
      "shawon\n"
     ]
    }
   ],
   "source": [
    "name()"
   ]
  },
  {
   "cell_type": "code",
   "execution_count": 155,
   "id": "d0182697-c1a0-40fd-b034-439c2f1c1828",
   "metadata": {},
   "outputs": [],
   "source": [
    "def num():\n",
    "    print(10+20)"
   ]
  },
  {
   "cell_type": "code",
   "execution_count": 156,
   "id": "0b62fbbd-e0b5-4ed2-b816-5abdb037223f",
   "metadata": {},
   "outputs": [
    {
     "name": "stdout",
     "output_type": "stream",
     "text": [
      "30\n"
     ]
    }
   ],
   "source": [
    "num()"
   ]
  },
  {
   "cell_type": "markdown",
   "id": "81bc07d9-e9a9-4cda-b87b-e18211f5a3da",
   "metadata": {},
   "source": [
    "def num(a,b,c):\n",
    "    print(a+b)"
   ]
  },
  {
   "cell_type": "code",
   "execution_count": 162,
   "id": "42984daf-ecf7-4b2a-bab9-ac17f5407879",
   "metadata": {},
   "outputs": [
    {
     "name": "stdout",
     "output_type": "stream",
     "text": [
      "40\n"
     ]
    }
   ],
   "source": [
    "num(10,30,40)"
   ]
  },
  {
   "cell_type": "code",
   "execution_count": 163,
   "id": "a8496ff7-85cd-4a4a-944f-15ccb7e0bcce",
   "metadata": {},
   "outputs": [],
   "source": [
    "def num(*a):\n",
    "    print(a)"
   ]
  },
  {
   "cell_type": "code",
   "execution_count": 164,
   "id": "4576f3fb-8a2b-4dc4-9803-679f1f56cec1",
   "metadata": {},
   "outputs": [
    {
     "name": "stdout",
     "output_type": "stream",
     "text": [
      "(1, 23, 4, 5, 6, 5)\n"
     ]
    }
   ],
   "source": [
    "num(1,23,4,5,6,5)"
   ]
  },
  {
   "cell_type": "code",
   "execution_count": 172,
   "id": "47a66f9c-5545-43d2-88ce-26e4a5a06477",
   "metadata": {},
   "outputs": [],
   "source": [
    "def sum(a,b):\n",
    "    return (a+b)"
   ]
  },
  {
   "cell_type": "code",
   "execution_count": 173,
   "id": "43e7c8b6-cb0a-48b0-8a70-eaeefe699807",
   "metadata": {},
   "outputs": [
    {
     "name": "stdout",
     "output_type": "stream",
     "text": [
      "30\n"
     ]
    }
   ],
   "source": [
    "a = sum(10,20)\n",
    "print(a)"
   ]
  },
  {
   "cell_type": "markdown",
   "id": "0666bf11-9c3c-43ec-aebe-178e2e9d28a2",
   "metadata": {},
   "source": [
    "1.8 Python Lambda"
   ]
  },
  {
   "cell_type": "markdown",
   "id": "9757ec3d-d5b4-4726-9da7-2211e6c3c363",
   "metadata": {},
   "source": [
    "Syntax\n",
    "lambda arguments : expression"
   ]
  },
  {
   "cell_type": "code",
   "execution_count": 177,
   "id": "4c2dfd93-684a-4b00-a74f-94616e7755bb",
   "metadata": {},
   "outputs": [
    {
     "name": "stdout",
     "output_type": "stream",
     "text": [
      "80\n"
     ]
    }
   ],
   "source": [
    "a = lambda b , c , d  : b+c+d\n",
    "print(a(10,20,50))"
   ]
  },
  {
   "cell_type": "markdown",
   "id": "9247c062-8f61-4104-a0a0-acfce5bdfd7e",
   "metadata": {},
   "source": [
    "1.9 list"
   ]
  },
  {
   "cell_type": "markdown",
   "id": "f928768e-332e-4aa3-b0fc-b45b32001d97",
   "metadata": {},
   "source": [
    "\n",
    "List items are ordered, changeable, and allow duplicate values.\n",
    "\n"
   ]
  },
  {
   "cell_type": "code",
   "execution_count": 179,
   "id": "fd4cee01-c3cf-4b03-a9c4-18e95131f300",
   "metadata": {},
   "outputs": [
    {
     "data": {
      "text/plain": [
       "'apple'"
      ]
     },
     "execution_count": 179,
     "metadata": {},
     "output_type": "execute_result"
    }
   ],
   "source": [
    "mylist = [\"apple\", \"banana\", \"cherry\"]\n",
    "mylist[0]"
   ]
  },
  {
   "cell_type": "code",
   "execution_count": 180,
   "id": "227b57f3-ec45-421a-8c48-8ecb1a2863f4",
   "metadata": {},
   "outputs": [
    {
     "data": {
      "text/plain": [
       "'cherry'"
      ]
     },
     "execution_count": 180,
     "metadata": {},
     "output_type": "execute_result"
    }
   ],
   "source": [
    "mylist[2]"
   ]
  },
  {
   "cell_type": "code",
   "execution_count": 181,
   "id": "906eb9f2-23d8-42ec-936c-39a133b84335",
   "metadata": {},
   "outputs": [
    {
     "data": {
      "text/plain": [
       "'cherry'"
      ]
     },
     "execution_count": 181,
     "metadata": {},
     "output_type": "execute_result"
    }
   ],
   "source": [
    "mylist[-1]"
   ]
  },
  {
   "cell_type": "code",
   "execution_count": 183,
   "id": "0d7a241b-45d9-41e4-b3ff-788483bd9db5",
   "metadata": {},
   "outputs": [],
   "source": [
    "mylist.append(10)"
   ]
  },
  {
   "cell_type": "code",
   "execution_count": 184,
   "id": "889a5a02-fa5e-4faf-9e3a-25918d711b3d",
   "metadata": {},
   "outputs": [
    {
     "data": {
      "text/plain": [
       "['apple', 'banana', 'cherry', 10]"
      ]
     },
     "execution_count": 184,
     "metadata": {},
     "output_type": "execute_result"
    }
   ],
   "source": [
    "mylist"
   ]
  },
  {
   "cell_type": "code",
   "execution_count": 185,
   "id": "d6205ef7-a005-4d06-b31c-beb4d9ad38d7",
   "metadata": {},
   "outputs": [],
   "source": [
    "mylist.remove(10)"
   ]
  },
  {
   "cell_type": "code",
   "execution_count": 186,
   "id": "782b7503-e4e2-4ae2-84fd-615dc12a8e14",
   "metadata": {},
   "outputs": [
    {
     "data": {
      "text/plain": [
       "['apple', 'banana', 'cherry']"
      ]
     },
     "execution_count": 186,
     "metadata": {},
     "output_type": "execute_result"
    }
   ],
   "source": [
    "mylist"
   ]
  },
  {
   "cell_type": "code",
   "execution_count": 189,
   "id": "b51fd765-bcea-4f6f-8bb7-4c2db0c0530d",
   "metadata": {},
   "outputs": [],
   "source": [
    "l = mylist.pop(1)"
   ]
  },
  {
   "cell_type": "code",
   "execution_count": 190,
   "id": "daac2128-70d3-4f42-8dbd-64c48bda1491",
   "metadata": {},
   "outputs": [
    {
     "data": {
      "text/plain": [
       "['apple']"
      ]
     },
     "execution_count": 190,
     "metadata": {},
     "output_type": "execute_result"
    }
   ],
   "source": [
    "mylist"
   ]
  },
  {
   "cell_type": "code",
   "execution_count": 191,
   "id": "a29c121a-97ae-4021-af78-8daeb90556d7",
   "metadata": {},
   "outputs": [
    {
     "data": {
      "text/plain": [
       "'cherry'"
      ]
     },
     "execution_count": 191,
     "metadata": {},
     "output_type": "execute_result"
    }
   ],
   "source": [
    "l"
   ]
  },
  {
   "cell_type": "markdown",
   "id": "1a5f8713-6766-4175-8ffc-01fef8139bcf",
   "metadata": {},
   "source": [
    "2.0 tuple "
   ]
  },
  {
   "cell_type": "markdown",
   "id": "f11d05d3-33f0-4920-8b82-b312c9bb610b",
   "metadata": {},
   "source": [
    "Tuples are unchangeable, meaning that you cannot change, add, or remove items once the tuple is created.\n",
    "\n",
    "But there are some workarounds."
   ]
  },
  {
   "cell_type": "code",
   "execution_count": 192,
   "id": "784043ea-3258-4029-92ff-939a1418ea98",
   "metadata": {},
   "outputs": [],
   "source": [
    "t = (10 , 20 , 30)"
   ]
  },
  {
   "cell_type": "code",
   "execution_count": 193,
   "id": "d945be9c-1a79-40b5-a8b3-9eda069967a3",
   "metadata": {},
   "outputs": [
    {
     "data": {
      "text/plain": [
       "tuple"
      ]
     },
     "execution_count": 193,
     "metadata": {},
     "output_type": "execute_result"
    }
   ],
   "source": [
    "type(t)"
   ]
  },
  {
   "cell_type": "code",
   "execution_count": 194,
   "id": "a08da3a4-e97b-4a9a-9660-62d710fa2398",
   "metadata": {},
   "outputs": [
    {
     "ename": "AttributeError",
     "evalue": "'tuple' object has no attribute 'append'",
     "output_type": "error",
     "traceback": [
      "\u001b[1;31m---------------------------------------------------------------------------\u001b[0m",
      "\u001b[1;31mAttributeError\u001b[0m                            Traceback (most recent call last)",
      "Cell \u001b[1;32mIn[194], line 1\u001b[0m\n\u001b[1;32m----> 1\u001b[0m \u001b[43mt\u001b[49m\u001b[38;5;241;43m.\u001b[39;49m\u001b[43mappend\u001b[49m(\u001b[38;5;241m10\u001b[39m)\n",
      "\u001b[1;31mAttributeError\u001b[0m: 'tuple' object has no attribute 'append'"
     ]
    }
   ],
   "source": [
    "t.append(10)"
   ]
  },
  {
   "cell_type": "code",
   "execution_count": 195,
   "id": "1fcb283b-1631-432b-a85a-dd14df7217fc",
   "metadata": {},
   "outputs": [],
   "source": [
    "t = list(t)\n",
    "t.append(10)"
   ]
  },
  {
   "cell_type": "code",
   "execution_count": 196,
   "id": "ea6e7b55-5696-48bb-8c9e-93740f6ed169",
   "metadata": {},
   "outputs": [
    {
     "data": {
      "text/plain": [
       "[10, 20, 30, 10]"
      ]
     },
     "execution_count": 196,
     "metadata": {},
     "output_type": "execute_result"
    }
   ],
   "source": [
    "t"
   ]
  },
  {
   "cell_type": "markdown",
   "id": "4cdc00ee-e19e-4515-9213-08c6432b68ef",
   "metadata": {},
   "source": [
    "2.1 set "
   ]
  },
  {
   "cell_type": "code",
   "execution_count": 198,
   "id": "63e00602-7f4e-4636-a3ec-0b63d0ab5902",
   "metadata": {},
   "outputs": [],
   "source": [
    "thisset = {\"apple\", \"banana\", \"cherry\"}"
   ]
  },
  {
   "cell_type": "code",
   "execution_count": 199,
   "id": "c5d642f5-c654-4e09-9260-de6e5926dc78",
   "metadata": {},
   "outputs": [
    {
     "data": {
      "text/plain": [
       "set"
      ]
     },
     "execution_count": 199,
     "metadata": {},
     "output_type": "execute_result"
    }
   ],
   "source": [
    "type(thisset)"
   ]
  },
  {
   "cell_type": "code",
   "execution_count": 202,
   "id": "0a41deb9-8034-4571-badb-103653c8f30c",
   "metadata": {},
   "outputs": [],
   "source": [
    "thisset.add(10)"
   ]
  },
  {
   "cell_type": "code",
   "execution_count": 203,
   "id": "3f950a69-1685-4377-9e4e-a644ccf238fb",
   "metadata": {},
   "outputs": [
    {
     "data": {
      "text/plain": [
       "{10, 'apple', 'banana', 'cherry'}"
      ]
     },
     "execution_count": 203,
     "metadata": {},
     "output_type": "execute_result"
    }
   ],
   "source": [
    "thisset"
   ]
  },
  {
   "cell_type": "code",
   "execution_count": 204,
   "id": "236a0367-26dd-4ca2-885c-551b88373e1e",
   "metadata": {},
   "outputs": [],
   "source": [
    "thisset.remove(10)"
   ]
  },
  {
   "cell_type": "code",
   "execution_count": 205,
   "id": "e2308577-98ca-4585-99ee-c52b14d97c9b",
   "metadata": {},
   "outputs": [
    {
     "data": {
      "text/plain": [
       "{'apple', 'banana', 'cherry'}"
      ]
     },
     "execution_count": 205,
     "metadata": {},
     "output_type": "execute_result"
    }
   ],
   "source": [
    "thisset"
   ]
  },
  {
   "cell_type": "code",
   "execution_count": 206,
   "id": "803d7540-5bfc-4087-ae8e-0899f6e39f8b",
   "metadata": {},
   "outputs": [
    {
     "ename": "TypeError",
     "evalue": "'set' object is not subscriptable",
     "output_type": "error",
     "traceback": [
      "\u001b[1;31m---------------------------------------------------------------------------\u001b[0m",
      "\u001b[1;31mTypeError\u001b[0m                                 Traceback (most recent call last)",
      "Cell \u001b[1;32mIn[206], line 1\u001b[0m\n\u001b[1;32m----> 1\u001b[0m \u001b[43mthisset\u001b[49m\u001b[43m[\u001b[49m\u001b[38;5;241;43m2\u001b[39;49m\u001b[43m]\u001b[49m\n",
      "\u001b[1;31mTypeError\u001b[0m: 'set' object is not subscriptable"
     ]
    }
   ],
   "source": [
    "thisset[2]"
   ]
  },
  {
   "cell_type": "markdown",
   "id": "78e8627e-710b-4761-94b4-1d61a706e98a",
   "metadata": {},
   "source": [
    "2.1 dict"
   ]
  },
  {
   "cell_type": "code",
   "execution_count": 207,
   "id": "510099cf-677d-419e-bd60-eaddb037de1a",
   "metadata": {},
   "outputs": [],
   "source": [
    "thisdict = {\n",
    "  \"brand\": \"Ford\",\n",
    "  \"model\": \"Mustang\",\n",
    "  \"year\": 1964\n",
    "}"
   ]
  },
  {
   "cell_type": "code",
   "execution_count": 208,
   "id": "d805a887-378d-478d-a96e-4b26ebd5d5b0",
   "metadata": {},
   "outputs": [
    {
     "data": {
      "text/plain": [
       "dict"
      ]
     },
     "execution_count": 208,
     "metadata": {},
     "output_type": "execute_result"
    }
   ],
   "source": [
    "type(thisdict)"
   ]
  },
  {
   "cell_type": "code",
   "execution_count": 209,
   "id": "fb6f8634-642b-427c-89f1-1e30dc747081",
   "metadata": {},
   "outputs": [
    {
     "data": {
      "text/plain": [
       "'Ford'"
      ]
     },
     "execution_count": 209,
     "metadata": {},
     "output_type": "execute_result"
    }
   ],
   "source": [
    "thisdict.get(\"brand\")"
   ]
  },
  {
   "cell_type": "code",
   "execution_count": 210,
   "id": "995b5708-a3d2-448d-9ea8-ae112dd15bc4",
   "metadata": {},
   "outputs": [
    {
     "data": {
      "text/plain": [
       "'Ford'"
      ]
     },
     "execution_count": 210,
     "metadata": {},
     "output_type": "execute_result"
    }
   ],
   "source": [
    "thisdict.pop('brand')"
   ]
  },
  {
   "cell_type": "code",
   "execution_count": 211,
   "id": "b80038ad-608b-4749-ba02-a52e4d9e6b7e",
   "metadata": {},
   "outputs": [
    {
     "data": {
      "text/plain": [
       "{'model': 'Mustang', 'year': 1964}"
      ]
     },
     "execution_count": 211,
     "metadata": {},
     "output_type": "execute_result"
    }
   ],
   "source": [
    "thisdict"
   ]
  },
  {
   "cell_type": "code",
   "execution_count": null,
   "id": "4e80560e-f730-40a7-a18a-db3eaddf80f7",
   "metadata": {},
   "outputs": [],
   "source": []
  }
 ],
 "metadata": {
  "kernelspec": {
   "display_name": "Python 3 (ipykernel)",
   "language": "python",
   "name": "python3"
  },
  "language_info": {
   "codemirror_mode": {
    "name": "ipython",
    "version": 3
   },
   "file_extension": ".py",
   "mimetype": "text/x-python",
   "name": "python",
   "nbconvert_exporter": "python",
   "pygments_lexer": "ipython3",
   "version": "3.10.0"
  }
 },
 "nbformat": 4,
 "nbformat_minor": 5
}
